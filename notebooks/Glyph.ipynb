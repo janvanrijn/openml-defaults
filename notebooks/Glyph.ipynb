{
 "cells": [
  {
   "cell_type": "code",
   "execution_count": 6,
   "metadata": {},
   "outputs": [
    {
     "name": "stdout",
     "output_type": "stream",
     "text": [
      "The autoreload extension is already loaded. To reload it, use:\n",
      "  %reload_ext autoreload\n"
     ]
    }
   ],
   "source": [
    "%load_ext autoreload\n",
    "%autoreload\n",
    "import path\n",
    "import operator\n",
    "import deap\n",
    "import glyph.gp as gp\n",
    "with path.Path('..'):\n",
    "    import openmldefaults.symbolic_regression as omlglyph\n"
   ]
  },
  {
   "cell_type": "code",
   "execution_count": 8,
   "metadata": {},
   "outputs": [],
   "source": [
    "pop_size = 20\n",
    "problem_dim = 2\n",
    "max_depth = 12"
   ]
  },
  {
   "cell_type": "code",
   "execution_count": 9,
   "metadata": {},
   "outputs": [
    {
     "ename": "NameError",
     "evalue": "name 'partialmethod' is not defined",
     "output_type": "error",
     "traceback": [
      "\u001b[0;31m---------------------------------------------------------------------------\u001b[0m",
      "\u001b[0;31mNameError\u001b[0m                                 Traceback (most recent call last)",
      "\u001b[0;32m<ipython-input-9-754c9eb793c2>\u001b[0m in \u001b[0;36m<module>\u001b[0;34m\u001b[0m\n\u001b[1;32m      1\u001b[0m \u001b[0mndinv\u001b[0m \u001b[0;34m=\u001b[0m \u001b[0momlglyph\u001b[0m\u001b[0;34m.\u001b[0m\u001b[0mNDIndividual\u001b[0m\u001b[0;34m\u001b[0m\u001b[0;34m\u001b[0m\u001b[0m\n\u001b[0;32m----> 2\u001b[0;31m \u001b[0mndinv\u001b[0m\u001b[0;34m.\u001b[0m\u001b[0mcreate_population\u001b[0m \u001b[0;34m=\u001b[0m \u001b[0mpartialmethod\u001b[0m\u001b[0;34m(\u001b[0m\u001b[0mndinv\u001b[0m\u001b[0;34m.\u001b[0m\u001b[0mcreate_population\u001b[0m\u001b[0;34m,\u001b[0m \u001b[0mndim\u001b[0m\u001b[0;34m=\u001b[0m\u001b[0mproblem_dim\u001b[0m\u001b[0;34m)\u001b[0m\u001b[0;34m\u001b[0m\u001b[0;34m\u001b[0m\u001b[0m\n\u001b[0m\u001b[1;32m      3\u001b[0m \u001b[0;34m\u001b[0m\u001b[0m\n\u001b[1;32m      4\u001b[0m \u001b[0;31m# Koza-style tree depth limits.\u001b[0m\u001b[0;34m\u001b[0m\u001b[0;34m\u001b[0m\u001b[0;34m\u001b[0m\u001b[0m\n\u001b[1;32m      5\u001b[0m \u001b[0mlimit\u001b[0m \u001b[0;34m=\u001b[0m \u001b[0momlglyph\u001b[0m\u001b[0;34m.\u001b[0m\u001b[0mstatic_limit\u001b[0m\u001b[0;34m(\u001b[0m\u001b[0mkey\u001b[0m\u001b[0;34m=\u001b[0m\u001b[0moperator\u001b[0m\u001b[0;34m.\u001b[0m\u001b[0mattrgetter\u001b[0m\u001b[0;34m(\u001b[0m\u001b[0;34m\"height\"\u001b[0m\u001b[0;34m)\u001b[0m\u001b[0;34m,\u001b[0m \u001b[0mmax_value\u001b[0m\u001b[0;34m=\u001b[0m\u001b[0mmax_depth\u001b[0m\u001b[0;34m)\u001b[0m\u001b[0;34m\u001b[0m\u001b[0;34m\u001b[0m\u001b[0m\n",
      "\u001b[0;31mNameError\u001b[0m: name 'partialmethod' is not defined"
     ]
    }
   ],
   "source": [
    "ndinv = omlglyph.NDIndividual\n",
    "ndinv.create_population = partialmethod(ndinv.create_population, ndim=problem_dim)\n",
    "\n",
    "# Koza-style tree depth limits.\n",
    "limit = omlglyph.static_limit(key=operator.attrgetter(\"height\"), max_value=max_depth)\n",
    "\n",
    "# Mutations\n",
    "mate = limit(deap.gp.cxOnePoint)\n",
    "expr_mut = partial(deap.gp.genFull, min_=0, max_=2)\n",
    "mutate =   limit(partial(deap.gp.mutUniform, expr=expr_mut, pset=ndinv.pset))\n",
    "select =   partial(deap.tools.selDoubleTournament, fitness_size=10, parsimony_size=1.6, fitness_first=True)\n",
    "\n",
    "algorithm = gp.algorithms.AgeFitness(mate, mutate, select, ndinv.create_population)\n",
    "pop = omlglyph.update_fitness(ndinv.create_population(pop_size))"
   ]
  },
  {
   "cell_type": "code",
   "execution_count": null,
   "metadata": {},
   "outputs": [],
   "source": [
    "\n",
    "    for gen in range(20):\n",
    "        pop = algorithm.evolve(pop)\n",
    "        pop = update_fitness(pop)\n",
    "        best = deap.tools.selBest(pop, 1)[0]\n",
    "\n",
    "        print(best, best.popt, best.fitness.values)\n",
    "\n",
    "        if best.fitness.values[0] <= 1e-3:\n",
    "            break\n"
   ]
  },
  {
   "cell_type": "code",
   "execution_count": 1,
   "metadata": {},
   "outputs": [
    {
     "data": {
      "text/html": [
       "2"
      ],
      "text/latex": [
       "2"
      ],
      "text/markdown": [
       "2"
      ],
      "text/plain": [
       "[1] 2"
      ]
     },
     "metadata": {},
     "output_type": "display_data"
    }
   ],
   "source": [
    "1+1"
   ]
  }
 ],
 "metadata": {
  "kernelspec": {
   "display_name": "R",
   "language": "R",
   "name": "ir"
  },
  "language_info": {
   "codemirror_mode": "r",
   "file_extension": ".r",
   "mimetype": "text/x-r-source",
   "name": "R",
   "pygments_lexer": "r",
   "version": "3.6.2"
  }
 },
 "nbformat": 4,
 "nbformat_minor": 2
}
