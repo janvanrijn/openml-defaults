{
 "cells": [
  {
   "cell_type": "code",
   "execution_count": 20,
   "metadata": {
    "cell_style": "center"
   },
   "outputs": [],
   "source": [
    "import arff\n",
    "import argparse\n",
    "import ConfigSpace\n",
    "import logging\n",
    "import numpy as np\n",
    "import openmlcontrib\n",
    "import openmldefaults\n",
    "import os\n",
    "import pandas as pd\n",
    "import pickle\n",
    "import sklearn\n",
    "import typing\n",
    "import pdb\n",
    "import sys\n",
    "import logging\n",
    "import numba"
   ]
  },
  {
   "cell_type": "code",
   "execution_count": 21,
   "metadata": {},
   "outputs": [],
   "source": [
    "from pathlib import Path\n",
    "configs = {\n",
    "    \"sklearn_svc\": {\n",
    "        \"path\" : Path('/home/flo/Documents/projects/surrogates_data/data'),\n",
    "        \"file\" : 'sklearn_svc.arff',\n",
    "        \"target_col\": [\"predictive_accuracy\"],\n",
    "        \"task_col\": \"task_id\",\n",
    "        \"cat_names\" : ['svc__kernel', 'svc__shrinking', 'columntransformer__numeric__imputer__strategy'],\n",
    "        \"cont_names\" : ['svc__'+s for s in ['C', 'coef0', 'degree', 'gamma', 'tol']]\n",
    "    },\n",
    "    \"mlr_svm_2\": {\n",
    "        \"path\" : Path('/home/flo/Documents/projects/surrogates_data/data'),\n",
    "        \"file\" : 'rbv2_mlr_classif.svm.arff',\n",
    "        \"target_col\": [\"perf.mmce\", \"perf.logloss\", \"traintime\", \"predicttime\"],\n",
    "        \"task_col\": \"dataset\",\n",
    "        \"cat_names\" : ['kernel', 'shrinking', 'num.impute.selected.cpo', 'fitted'],\n",
    "        \"cont_names\" : ['cpst', 'gamma', 'tolerance', 'degree']\n",
    "    }\n",
    "}"
   ]
  },
  {
   "cell_type": "code",
   "execution_count": 22,
   "metadata": {},
   "outputs": [],
   "source": [
    "import pandas as pd\n",
    "import openmlcontrib\n",
    "def read_data(path, file, task_col):\n",
    "    fp = path/file\n",
    "    if (fp).suffix == \".arff\": \n",
    "        if \"mlr\" not in file:\n",
    "            with open(fp) as arff_file:\n",
    "                df = openmlcontrib.meta.arff_to_dataframe(arff.load(arff_file))\n",
    "                df.task_id = df[task_col].astype('int').astype('str')\n",
    "        else:\n",
    "             df = pd.read_csv(fp,nrows=70)\n",
    "    else:\n",
    "        df = pd.read_csv(fp)\n",
    "        df.task_id = df[task_col].astype('int').astype('str')\n",
    "    return df\n",
    "\n",
    "def split_by_task_id(df, task_col, frac=0.2):\n",
    "    vidx = df.groupby(task_col).apply(pd.DataFrame.sample, frac=frac).index.droplevel(task_col).values\n",
    "    tidx = [x for x in df.index.values if x not in vidx]\n",
    "    return (L(tidx), L(vidx.tolist()))\n",
    "\n",
    "def normalize(x):\n",
    "    if (max(x) == min(x)):\n",
    "        return np.ones_like(x)*0.5\n",
    "    else:\n",
    "        return (x - min(x)) / (max(x) - min(x))\n",
    "\n",
    "def normalize_target(df, task_col, target_col):\n",
    "    df[target_col] = df.groupby(task_col)[target_col].apply(normalize)\n",
    "    return df\n",
    "\n",
    "def identity_y(): return TransformBlock()\n",
    "\n",
    "def sprho(inp, targ):\n",
    "    return scipy.stats.spearmanr(inp, targ)[0]"
   ]
  },
  {
   "cell_type": "code",
   "execution_count": 23,
   "metadata": {
    "cell_style": "center"
   },
   "outputs": [],
   "source": [
    "from fastai2.tabular.all import *\n",
    "path, file, target_col, task_col, cat_names, cont_names =  configs[\"sklearn_svc\"].values()\n",
    "target_col = target_col[0]\n",
    "df = read_data(path, file, task_col)\n",
    "df = normalize_target(df, task_col, target_col)"
   ]
  },
  {
   "cell_type": "markdown",
   "metadata": {},
   "source": [
    "# Fit the NN"
   ]
  },
  {
   "cell_type": "code",
   "execution_count": 15,
   "metadata": {},
   "outputs": [],
   "source": [
    "procs = [Categorify, FillMissing, Normalize]\n",
    "splits = split_by_task_id(df, task_col)\n",
    "to = TabularPandas(df, procs=procs, cat_names=cat_names, cont_names=cont_names, y_names=target_col, splits=splits, block_y=identity_y)\n",
    "dls = to.dataloaders(bs=512)"
   ]
  },
  {
   "cell_type": "code",
   "execution_count": 16,
   "metadata": {},
   "outputs": [],
   "source": [
    "learn = tabular_learner(dls, [1000,500,300], metrics=[mae,sprho], n_out=1,loss_func=MSELossFlat(), opt_func=ranger)"
   ]
  },
  {
   "cell_type": "code",
   "execution_count": 17,
   "metadata": {},
   "outputs": [
    {
     "data": {
      "text/html": [],
      "text/plain": [
       "<IPython.core.display.HTML object>"
      ]
     },
     "metadata": {},
     "output_type": "display_data"
    },
    {
     "data": {
      "text/plain": [
       "(0.0019054606556892395, 0.0003311311302240938)"
      ]
     },
     "execution_count": 17,
     "metadata": {},
     "output_type": "execute_result"
    },
    {
     "data": {
      "image/png": "[encoded data removed]",
      "text/plain": [
       "<Figure size 432x288 with 1 Axes>"
      ]
     },
     "metadata": {
      "needs_background": "light"
     },
     "output_type": "display_data"
    }
   ],
   "source": [
    "learn.lr_find()"
   ]
  },
  {
   "cell_type": "code",
   "execution_count": 19,
   "metadata": {},
   "outputs": [
    {
     "data": {
      "text/html": [
       "<table border=\"1\" class=\"dataframe\">\n",
       "  <thead>\n",
       "    <tr style=\"text-align: left;\">\n",
       "      <th>epoch</th>\n",
       "      <th>train_loss</th>\n",
       "      <th>valid_loss</th>\n",
       "      <th>mae</th>\n",
       "      <th>sprho</th>\n",
       "      <th>time</th>\n",
       "    </tr>\n",
       "  </thead>\n",
       "  <tbody>\n",
       "    <tr>\n",
       "      <td>0</td>\n",
       "      <td>0.094552</td>\n",
       "      <td>0.095026</td>\n",
       "      <td>0.247550</td>\n",
       "      <td>0.388537</td>\n",
       "      <td>00:06</td>\n",
       "    </tr>\n",
       "    <tr>\n",
       "      <td>1</td>\n",
       "      <td>0.089140</td>\n",
       "      <td>0.084124</td>\n",
       "      <td>0.236778</td>\n",
       "      <td>0.437576</td>\n",
       "      <td>00:06</td>\n",
       "    </tr>\n",
       "    <tr>\n",
       "      <td>2</td>\n",
       "      <td>0.081746</td>\n",
       "      <td>0.082926</td>\n",
       "      <td>0.232182</td>\n",
       "      <td>0.448092</td>\n",
       "      <td>00:06</td>\n",
       "    </tr>\n",
       "  </tbody>\n",
       "</table>"
      ],
      "text/plain": [
       "<IPython.core.display.HTML object>"
      ]
     },
     "metadata": {},
     "output_type": "display_data"
    }
   ],
   "source": [
    "learn.fit_one_cycle(3)"
   ]
  },
  {
   "cell_type": "code",
   "execution_count": null,
   "metadata": {},
   "outputs": [],
   "source": [
    "row = df.iloc[[0],:].drop([\"predictive_accuracy\"],axis=1)\n",
    "hout_tid = 33\n",
    "tids = [x for x in df.task_id.unique() if x != hout_tid]\n",
    "\n",
    "def predict_mean(learn, row, tids):\n",
    "    pdf = row.loc[np.repeat(row.index.values, len(tids))]\n",
    "    pdf.task_id = tids\n",
    "    return pdf.reset_index().drop([\"index\"],axis=1)"
   ]
  },
  {
   "cell_type": "code",
   "execution_count": null,
   "metadata": {},
   "outputs": [],
   "source": [
    "rows.head()"
   ]
  },
  {
   "cell_type": "markdown",
   "metadata": {},
   "source": [
    "# Optimizing the Architecture"
   ]
  },
  {
   "cell_type": "code",
   "execution_count": null,
   "metadata": {},
   "outputs": [],
   "source": [
    "import torch\n",
    "import numpy as np\n",
    "\n",
    "from ax.plot.contour import plot_contour\n",
    "from ax.plot.trace import optimization_trace_single_method\n",
    "from ax.service.managed_loop import optimize\n",
    "from ax.utils.notebook.plotting import render, init_notebook_plotting\n",
    "\n",
    "init_notebook_plotting()\n",
    "\n",
    "def train_evaluate(p):\n",
    "    net = learn = tabular_learner(dls, [p['l1'], p['l3'], p['l3']], metrics=mae, wd = p['wd'], config = tabular_config(y_range=[0,1.1]), n_out=1)\n",
    "    learn.fit(10, lr=p['lr'])\n",
    "    tt = learn.get_preds()\n",
    "    return scipy.stats.spearmanr(tt[1].numpy(), tt[0].numpy()).correlation"
   ]
  },
  {
   "cell_type": "code",
   "execution_count": null,
   "metadata": {},
   "outputs": [],
   "source": [
    "# Ooṕtimize using Ax\n",
    "best_parameters, values, experiment, model = optimize(\n",
    "    parameters=[\n",
    "        {\"name\": \"lr\", \"type\": \"range\", \"bounds\": [1e-6, 0.4], \"log_scale\": True},\n",
    "        {\"name\": \"wd\", \"type\": \"range\", \"bounds\": [0.0, 0.1]},\n",
    "        {\"name\": \"l1\", \"type\": \"range\", \"bounds\": [1, 512]},\n",
    "        {\"name\": \"l2\", \"type\": \"range\", \"bounds\": [1, 512]},\n",
    "        {\"name\": \"l3\", \"type\": \"range\", \"bounds\": [1, 512]},\n",
    "    ],\n",
    "    evaluation_function=train_evaluate,\n",
    "    objective_name='rho',\n",
    "    total_trials=100\n",
    ")"
   ]
  },
  {
   "cell_type": "code",
   "execution_count": null,
   "metadata": {},
   "outputs": [],
   "source": [
    "best_parameters"
   ]
  }
 ],
 "metadata": {
  "kernelspec": {
   "display_name": "Python 3",
   "language": "python",
   "name": "python3"
  },
  "language_info": {
   "codemirror_mode": {
    "name": "ipython",
    "version": 3
   },
   "file_extension": ".py",
   "mimetype": "text/x-python",
   "name": "python",
   "nbconvert_exporter": "python",
   "pygments_lexer": "ipython3",
   "version": "3.6.9"
  }
 },
 "nbformat": 4,
 "nbformat_minor": 2
}
